{
 "cells": [
  {
   "cell_type": "code",
   "execution_count": 1,
   "metadata": {},
   "outputs": [
    {
     "name": "stdout",
     "output_type": "stream",
     "text": [
      "['BENNER22', 'BENNER6', 'BENNER74', 'BLOSUM45', 'BLOSUM50', 'BLOSUM62', 'BLOSUM80', 'BLOSUM90', 'DAYHOFF', 'FENG', 'GENETIC', 'GONNET1992', 'HOXD70', 'JOHNSON', 'JONES', 'LEVIN', 'MCLACHLAN', 'MDM78', 'NUC.4.4', 'PAM250', 'PAM30', 'PAM70', 'RAO', 'RISLER', 'SCHNEIDER', 'STR', 'TRANS']\n"
     ]
    }
   ],
   "source": [
    "from Bio.Align import substitution_matrices\n",
    "print(substitution_matrices.load())  # doctest: +ELLIPSIS"
   ]
  },
  {
   "cell_type": "code",
   "execution_count": 2,
   "metadata": {},
   "outputs": [
    {
     "name": "stdout",
     "output_type": "stream",
     "text": [
      "#  Matrix made by matblas from blosum62.iij\n",
      "#  * column uses minimum score\n",
      "#  BLOSUM Clustered Scoring Matrix in 1/2 Bit Units\n",
      "#  Blocks Database = /data/blocks_5.0/blocks.dat\n",
      "#  Cluster Percentage: >= 62\n",
      "#  Entropy =   0.6979, Expected =  -0.5209\n",
      "     A    R    N    D    C    Q    E    G    H    I    L    K    M    F    P    S    T    W    Y    V    B    Z    X    *\n",
      "A  4.0 -1.0 -2.0 -2.0  0.0 -1.0 -1.0  0.0 -2.0 -1.0 -1.0 -1.0 -1.0 -2.0 -1.0  1.0  0.0 -3.0 -2.0  0.0 -2.0 -1.0  0.0 -4.0\n",
      "R -1.0  5.0  0.0 -2.0 -3.0  1.0  0.0 -2.0  0.0 -3.0 -2.0  2.0 -1.0 -3.0 -2.0 -1.0 -1.0 -3.0 -2.0 -3.0 -1.0  0.0 -1.0 -4.0\n",
      "N -2.0  0.0  6.0  1.0 -3.0  0.0  0.0  0.0  1.0 -3.0 -3.0  0.0 -2.0 -3.0 -2.0  1.0  0.0 -4.0 -2.0 -3.0  3.0  0.0 -1.0 -4.0\n",
      "D -2.0 -2.0  1.0  6.0 -3.0  0.0  2.0 -1.0 -1.0 -3.0 -4.0 -1.0 -3.0 -3.0 -1.0  0.0 -1.0 -4.0 -3.0 -3.0  4.0  1.0 -1.0 -4.0\n",
      "C  0.0 -3.0 -3.0 -3.0  9.0 -3.0 -4.0 -3.0 -3.0 -1.0 -1.0 -3.0 -1.0 -2.0 -3.0 -1.0 -1.0 -2.0 -2.0 -1.0 -3.0 -3.0 -2.0 -4.0\n",
      "Q -1.0  1.0  0.0  0.0 -3.0  5.0  2.0 -2.0  0.0 -3.0 -2.0  1.0  0.0 -3.0 -1.0  0.0 -1.0 -2.0 -1.0 -2.0  0.0  3.0 -1.0 -4.0\n",
      "E -1.0  0.0  0.0  2.0 -4.0  2.0  5.0 -2.0  0.0 -3.0 -3.0  1.0 -2.0 -3.0 -1.0  0.0 -1.0 -3.0 -2.0 -2.0  1.0  4.0 -1.0 -4.0\n",
      "G  0.0 -2.0  0.0 -1.0 -3.0 -2.0 -2.0  6.0 -2.0 -4.0 -4.0 -2.0 -3.0 -3.0 -2.0  0.0 -2.0 -2.0 -3.0 -3.0 -1.0 -2.0 -1.0 -4.0\n",
      "H -2.0  0.0  1.0 -1.0 -3.0  0.0  0.0 -2.0  8.0 -3.0 -3.0 -1.0 -2.0 -1.0 -2.0 -1.0 -2.0 -2.0  2.0 -3.0  0.0  0.0 -1.0 -4.0\n",
      "I -1.0 -3.0 -3.0 -3.0 -1.0 -3.0 -3.0 -4.0 -3.0  4.0  2.0 -3.0  1.0  0.0 -3.0 -2.0 -1.0 -3.0 -1.0  3.0 -3.0 -3.0 -1.0 -4.0\n",
      "L -1.0 -2.0 -3.0 -4.0 -1.0 -2.0 -3.0 -4.0 -3.0  2.0  4.0 -2.0  2.0  0.0 -3.0 -2.0 -1.0 -2.0 -1.0  1.0 -4.0 -3.0 -1.0 -4.0\n",
      "K -1.0  2.0  0.0 -1.0 -3.0  1.0  1.0 -2.0 -1.0 -3.0 -2.0  5.0 -1.0 -3.0 -1.0  0.0 -1.0 -3.0 -2.0 -2.0  0.0  1.0 -1.0 -4.0\n",
      "M -1.0 -1.0 -2.0 -3.0 -1.0  0.0 -2.0 -3.0 -2.0  1.0  2.0 -1.0  5.0  0.0 -2.0 -1.0 -1.0 -1.0 -1.0  1.0 -3.0 -1.0 -1.0 -4.0\n",
      "F -2.0 -3.0 -3.0 -3.0 -2.0 -3.0 -3.0 -3.0 -1.0  0.0  0.0 -3.0  0.0  6.0 -4.0 -2.0 -2.0  1.0  3.0 -1.0 -3.0 -3.0 -1.0 -4.0\n",
      "P -1.0 -2.0 -2.0 -1.0 -3.0 -1.0 -1.0 -2.0 -2.0 -3.0 -3.0 -1.0 -2.0 -4.0  7.0 -1.0 -1.0 -4.0 -3.0 -2.0 -2.0 -1.0 -2.0 -4.0\n",
      "S  1.0 -1.0  1.0  0.0 -1.0  0.0  0.0  0.0 -1.0 -2.0 -2.0  0.0 -1.0 -2.0 -1.0  4.0  1.0 -3.0 -2.0 -2.0  0.0  0.0  0.0 -4.0\n",
      "T  0.0 -1.0  0.0 -1.0 -1.0 -1.0 -1.0 -2.0 -2.0 -1.0 -1.0 -1.0 -1.0 -2.0 -1.0  1.0  5.0 -2.0 -2.0  0.0 -1.0 -1.0  0.0 -4.0\n",
      "W -3.0 -3.0 -4.0 -4.0 -2.0 -2.0 -3.0 -2.0 -2.0 -3.0 -2.0 -3.0 -1.0  1.0 -4.0 -3.0 -2.0 11.0  2.0 -3.0 -4.0 -3.0 -2.0 -4.0\n",
      "Y -2.0 -2.0 -2.0 -3.0 -2.0 -1.0 -2.0 -3.0  2.0 -1.0 -1.0 -2.0 -1.0  3.0 -3.0 -2.0 -2.0  2.0  7.0 -1.0 -3.0 -2.0 -1.0 -4.0\n",
      "V  0.0 -3.0 -3.0 -3.0 -1.0 -2.0 -2.0 -3.0 -3.0  3.0  1.0 -2.0  1.0 -1.0 -2.0 -2.0  0.0 -3.0 -1.0  4.0 -3.0 -2.0 -1.0 -4.0\n",
      "B -2.0 -1.0  3.0  4.0 -3.0  0.0  1.0 -1.0  0.0 -3.0 -4.0  0.0 -3.0 -3.0 -2.0  0.0 -1.0 -4.0 -3.0 -3.0  4.0  1.0 -1.0 -4.0\n",
      "Z -1.0  0.0  0.0  1.0 -3.0  3.0  4.0 -2.0  0.0 -3.0 -3.0  1.0 -1.0 -3.0 -1.0  0.0 -1.0 -3.0 -2.0 -2.0  1.0  4.0 -1.0 -4.0\n",
      "X  0.0 -1.0 -1.0 -1.0 -2.0 -1.0 -1.0 -1.0 -1.0 -1.0 -1.0 -1.0 -1.0 -1.0 -2.0  0.0  0.0 -2.0 -1.0 -1.0 -1.0 -1.0 -1.0 -4.0\n",
      "* -4.0 -4.0 -4.0 -4.0 -4.0 -4.0 -4.0 -4.0 -4.0 -4.0 -4.0 -4.0 -4.0 -4.0 -4.0 -4.0 -4.0 -4.0 -4.0 -4.0 -4.0 -4.0 -4.0  1.0\n",
      "\n"
     ]
    }
   ],
   "source": [
    "matrix = substitution_matrices.load(\"BLOSUM62\")\n",
    "\n",
    "ZERO_DIAG = False\n",
    "if ZERO_DIAG:\n",
    "    import numpy as np\n",
    "    np.fill_diagonal(matrix, 0)\n",
    "\n",
    "print(matrix)"
   ]
  },
  {
   "cell_type": "markdown",
   "metadata": {},
   "source": [
    "---"
   ]
  },
  {
   "cell_type": "code",
   "execution_count": 3,
   "metadata": {},
   "outputs": [],
   "source": [
    "def cal_blosum_score(matrix, ref_seq, query_seqs):\n",
    "\n",
    "    from Bio import Align\n",
    "    aligner = Align.PairwiseAligner()\n",
    "    aligner.substitution_matrix = matrix\n",
    "\n",
    "    scores = []\n",
    "\n",
    "    if type(query_seqs) == list:\n",
    "        for query_seq in query_seqs:\n",
    "            scores.append(aligner.score(ref_seq, query_seq))\n",
    "    elif type(query_seqs) == str:\n",
    "        scores.append(aligner.score(ref_seq, query_seqs))\n",
    "    else:\n",
    "        raise ValueError(f\"Wrong type of query_seqs ({type(query_seqs)})\")\n",
    "    \n",
    "    return scores\n",
    "\n",
    "def blosum_dist(matrix, ref_seq, query_seq):\n",
    "    blosum_dist = 0\n",
    "    for ref, query in zip(ref_seq, query_seq):\n",
    "        i = matrix.alphabet.find(ref)\n",
    "        j = matrix.alphabet.find(query)\n",
    "        blosum_dist += matrix[i, j]\n",
    "    return blosum_dist\n",
    "\n",
    "def blosum_weighted_dist(matrix, ref_seq, query_seq):\n",
    "    blosum_dist = 0\n",
    "    for ref, query in zip(ref_seq, query_seq):\n",
    "        if ref != query:\n",
    "            i = matrix.alphabet.find(ref)\n",
    "            j = matrix.alphabet.find(query)\n",
    "            blosum_dist += matrix[i, j]\n",
    "    return blosum_dist\n",
    "\n",
    "def cal_blosum_dist(matrix, ref_seq, query_seqs, weighted=False):\n",
    "    distances = []\n",
    "\n",
    "    if weighted:\n",
    "        cal_func = blosum_weighted_dist\n",
    "    else:\n",
    "        cal_func = blosum_dist\n",
    "\n",
    "    if type(query_seqs) == list:\n",
    "        for query_seq in query_seqs:\n",
    "            distances.append(cal_func(matrix, ref_seq, query_seq))\n",
    "    elif type(query_seqs) == str:\n",
    "        distances.append(cal_func(matrix, ref_seq, query_seqs))\n",
    "    else:\n",
    "        raise ValueError(f\"Wrong type of query_seqs ({type(query_seqs)})\")\n",
    "    \n",
    "    return distances"
   ]
  },
  {
   "cell_type": "code",
   "execution_count": 4,
   "metadata": {},
   "outputs": [],
   "source": [
    "import pandas as pd\n",
    "\n",
    "data_path = \"/data/lujd/neoag_data/main_task/\"\n",
    "hla_seq_df = pd.read_csv(data_path+\"HLA_sequence_dict_ABCEG.csv\", index_col=0)\n",
    "hla_seq_dict = hla_seq_df.set_index([\"HLA_name\"])[\"clip\"].to_dict()\n",
    "\n",
    "hla_abc_df = hla_seq_df[:112]\n",
    "hla_abc_list = hla_abc_df[\"HLA_name\"].to_list()\n",
    "hla_abc_clip_list = hla_abc_df[\"clip\"].to_list()\n",
    "hla_abc_clip_list = [\"G\"+seq if len(seq)==181 else seq for seq in hla_abc_clip_list]    # alignment\n",
    "\n",
    "target_hla_list = [ \"HLA-A*03:02\", \"HLA-A*11:02\", \"HLA-B*42:01\", \"HLA-B*08:02\",\n",
    "                    \"HLA-G*01:01\", \"HLA-E*01:03\", \"HLA-A*33:03\", \"HLA-A*34:02\",]"
   ]
  },
  {
   "cell_type": "code",
   "execution_count": 5,
   "metadata": {},
   "outputs": [
    {
     "name": "stdout",
     "output_type": "stream",
     "text": [
      "HLA-A*11:02\n",
      "distance\t [750, 800, 825, 835, 845] \t [855, 865, 875, 885, 900]\n",
      "number (>dist)\t [112, 79, 41, 37, 36] \t [35, 33, 21, 17, 11]\n"
     ]
    }
   ],
   "source": [
    "import numpy as np\n",
    "\n",
    "target_hla = target_hla_list[1]\n",
    "target_hla_clip = hla_seq_dict[target_hla]\n",
    "print(target_hla)\n",
    "\n",
    "ref_seq = target_hla_clip\n",
    "query_seqs = hla_abc_clip_list\n",
    "\n",
    "blosum_distances = cal_blosum_dist(matrix, ref_seq, query_seqs)\n",
    "# blosum_distances = cal_blosum_dist(matrix, ref_seq, query_seqs, weighted=True)\n",
    "# blosum_distances = cal_blosum_score(matrix, ref_seq, query_seqs)\n",
    "blosum_distances = np.asarray(blosum_distances)\n",
    "\n",
    "kdist = [750, 800, 825, 835, 845, 855, 865, 875, 885, 900]\n",
    "# kdist = [-20, -15, -10, -5, 0, 5, 10]\n",
    "print(\"distance\\t\", kdist[:5], \"\\t\", kdist[5:])\n",
    "\n",
    "num_cluster = []\n",
    "for i in kdist:\n",
    "    num_cluster.append( sum(blosum_distances>i) )\n",
    "print(\"number (>dist)\\t\", num_cluster[:5], \"\\t\", num_cluster[5:])"
   ]
  },
  {
   "cell_type": "code",
   "execution_count": 12,
   "metadata": {},
   "outputs": [
    {
     "data": {
      "text/plain": [
       "38"
      ]
     },
     "execution_count": 12,
     "metadata": {},
     "output_type": "execute_result"
    }
   ],
   "source": [
    "clusterset = []\n",
    "for i, hla in enumerate(hla_abc_list):\n",
    "    if blosum_distances[i] > 826:\n",
    "        clusterset.append(hla)\n",
    "clusterset = set(clusterset)\n",
    "len(clusterset)"
   ]
  },
  {
   "cell_type": "markdown",
   "metadata": {},
   "source": [
    "|Allele|HLA-B*42:01|HLA-A*11:02|HLA-G*01:01|HLA-E*01:03|HLA-A*33:03|HLA-A*34:02|\n",
    "|-|-|-|-|-|-|-|\n",
    "|blosum_dist|\n",
    "|threshold|857|826|784|720|865|855|\n",
    "|number|55|38|29|29|35|35|\n",
    "|diff|3|0|8|7|1|0|\n",
    "|blosum_weighted_dist|\n",
    "|threshold|-8|-11|-2(-3)|-3|-11|-13|\n",
    "|number|52|35|26(32)|31|34|35|\n",
    "|diff|14|11|17(22)|27|11|3|\n",
    "|blosum_score|\n",
    "|threshold|883|857|813|772|886|875|\n",
    "|number|53|40|29|27|34|35|"
   ]
  },
  {
   "cell_type": "code",
   "execution_count": 13,
   "metadata": {},
   "outputs": [
    {
     "name": "stdout",
     "output_type": "stream",
     "text": [
      "'HLA-A*11:02': ['HLA-A*01:01', 'HLA-A*02:01', 'HLA-A*02:02', 'HLA-A*02:03', 'HLA-A*02:04',\n",
      "\t\t\t\t'HLA-A*02:05', 'HLA-A*02:06', 'HLA-A*02:07', 'HLA-A*02:11', 'HLA-A*02:12',\n",
      "\t\t\t\t'HLA-A*02:16', 'HLA-A*02:17', 'HLA-A*02:19', 'HLA-A*02:20', 'HLA-A*02:50',\n",
      "\t\t\t\t'HLA-A*03:01', 'HLA-A*11:01', 'HLA-A*24:02', 'HLA-A*24:03', 'HLA-A*25:01',\n",
      "\t\t\t\t'HLA-A*26:01', 'HLA-A*26:02', 'HLA-A*26:03', 'HLA-A*29:02', 'HLA-A*30:01',\n",
      "\t\t\t\t'HLA-A*30:02', 'HLA-A*31:01', 'HLA-A*32:01', 'HLA-A*32:07', 'HLA-A*32:15',\n",
      "\t\t\t\t'HLA-A*33:01', 'HLA-A*66:01', 'HLA-A*68:01', 'HLA-A*68:02', 'HLA-A*68:23',\n",
      "\t\t\t\t'HLA-A*69:01', 'HLA-A*80:01', 'HLA-C*16:01', ],\n"
     ]
    }
   ],
   "source": [
    "print(f\"\\'{target_hla}\\': [\", end=\"\")\n",
    "for i, hla in enumerate(sorted(list(clusterset))):\n",
    "    if i % 5 == 4 and i != len(clusterset)-1:\n",
    "        print(f\"\\'{hla}\\'\", end=\",\\n\")\n",
    "    elif i % 5 == 0 and i != 0:\n",
    "        print(f\"\\t\\t\\t\\t\\'{hla}\\'\", end=\", \")\n",
    "    else:\n",
    "        print(f\"\\'{hla}\\'\", end=\", \")\n",
    "print(\"],\")"
   ]
  },
  {
   "cell_type": "code",
   "execution_count": 14,
   "metadata": {},
   "outputs": [
    {
     "name": "stdout",
     "output_type": "stream",
     "text": [
      "'HLA-A*11:02': ['HLA-A*01:01', 'HLA-A*02:01', 'HLA-A*02:02', 'HLA-A*02:03', 'HLA-A*02:04',\n",
      "\t\t\t\t'HLA-A*02:05', 'HLA-A*02:06', 'HLA-A*02:07', 'HLA-A*02:11', 'HLA-A*02:12',\n",
      "\t\t\t\t'HLA-A*02:16', 'HLA-A*02:17', 'HLA-A*02:19', 'HLA-A*02:20', 'HLA-A*02:50',\n",
      "\t\t\t\t'HLA-A*03:01', 'HLA-A*11:01', 'HLA-A*24:02', 'HLA-A*24:03', 'HLA-A*24:06',\n",
      "\t\t\t\t'HLA-A*24:13', 'HLA-A*25:01', 'HLA-A*26:01', 'HLA-A*26:02', 'HLA-A*26:03',\n",
      "\t\t\t\t'HLA-A*29:02', 'HLA-A*30:01', 'HLA-A*30:02', 'HLA-A*31:01', 'HLA-A*32:01',\n",
      "\t\t\t\t'HLA-A*32:07', 'HLA-A*32:15', 'HLA-A*33:01', 'HLA-A*66:01', 'HLA-A*68:01',\n",
      "\t\t\t\t'HLA-A*68:02', 'HLA-A*68:23', 'HLA-A*69:01', 'HLA-A*80:01', 'HLA-C*16:01', ],\n"
     ]
    }
   ],
   "source": [
    "l = ['HLA-A*01:01', 'HLA-A*02:01', 'HLA-A*02:02', 'HLA-A*02:03', 'HLA-A*02:04',\n",
    "\t\t\t\t'HLA-A*02:05', 'HLA-A*02:06', 'HLA-A*02:07', 'HLA-A*02:11', 'HLA-A*02:12',\n",
    "\t\t\t\t'HLA-A*02:16', 'HLA-A*02:17', 'HLA-A*02:19', 'HLA-A*02:20', 'HLA-A*02:50',\n",
    "\t\t\t\t'HLA-A*03:01', 'HLA-A*11:01', 'HLA-A*24:02', 'HLA-A*24:03', 'HLA-A*24:06',\n",
    "\t\t\t\t'HLA-A*24:13', 'HLA-A*25:01', 'HLA-A*26:01', 'HLA-A*26:02', 'HLA-A*26:03',\n",
    "\t\t\t\t'HLA-A*29:02', 'HLA-A*30:01', 'HLA-A*30:02', 'HLA-A*31:01', 'HLA-A*32:01',\n",
    "\t\t\t\t'HLA-A*32:07', 'HLA-A*32:15', 'HLA-A*33:01', 'HLA-A*66:01', 'HLA-A*68:01',\n",
    "\t\t\t\t'HLA-A*68:02', 'HLA-A*68:23', 'HLA-A*69:01', 'HLA-A*80:01', 'HLA-C*16:01', ]\n",
    "\n",
    "print(f\"\\'{target_hla}\\': [\", end=\"\")\n",
    "for i, hla in enumerate(sorted(list(l))):\n",
    "    if i % 5 == 4 and i != len(l)-1:\n",
    "        print(f\"\\'{hla}\\'\", end=\",\\n\")\n",
    "    elif i % 5 == 0 and i != 0:\n",
    "        print(f\"\\t\\t\\t\\t\\'{hla}\\'\", end=\", \")\n",
    "    else:\n",
    "        print(f\"\\'{hla}\\'\", end=\", \")\n",
    "print(\"],\")"
   ]
  },
  {
   "cell_type": "code",
   "execution_count": 15,
   "metadata": {},
   "outputs": [
    {
     "data": {
      "text/plain": [
       "0"
      ]
     },
     "execution_count": 15,
     "metadata": {},
     "output_type": "execute_result"
    }
   ],
   "source": [
    "num = 0\n",
    "for h in clusterset:\n",
    "    if h not in l:\n",
    "        num += 1\n",
    "num"
   ]
  },
  {
   "cell_type": "code",
   "execution_count": 16,
   "metadata": {},
   "outputs": [
    {
     "data": {
      "text/plain": [
       "2"
      ]
     },
     "execution_count": 16,
     "metadata": {},
     "output_type": "execute_result"
    }
   ],
   "source": [
    "num = 0\n",
    "for h in l:\n",
    "    if h not in clusterset:\n",
    "        num += 1\n",
    "num"
   ]
  }
 ],
 "metadata": {
  "kernelspec": {
   "display_name": "phla",
   "language": "python",
   "name": "python3"
  },
  "language_info": {
   "codemirror_mode": {
    "name": "ipython",
    "version": 3
   },
   "file_extension": ".py",
   "mimetype": "text/x-python",
   "name": "python",
   "nbconvert_exporter": "python",
   "pygments_lexer": "ipython3",
   "version": "3.8.13"
  }
 },
 "nbformat": 4,
 "nbformat_minor": 2
}
