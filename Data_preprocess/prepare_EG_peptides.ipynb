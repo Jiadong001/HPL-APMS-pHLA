{
 "cells": [
  {
   "attachments": {},
   "cell_type": "markdown",
   "metadata": {},
   "source": [
    "- Two parts:\n",
    "    - 1. make \"zeroshot.csv\" (HLA(name) - pos_peptide - pep_len - label)\n",
    "    - 2. build candidate pools for each HLA"
   ]
  },
  {
   "attachments": {},
   "cell_type": "markdown",
   "metadata": {},
   "source": [
    "1. make \"zeroshot.csv\""
   ]
  },
  {
   "cell_type": "code",
   "execution_count": 1,
   "metadata": {},
   "outputs": [],
   "source": [
    "def get_pos_pep_list(fasta_name):\n",
    "    pos_pep_file = open(fasta_name,\"r\")\n",
    "    line = pos_pep_file.readline()\n",
    "\n",
    "    pos_pep_list = []\n",
    "    while line:\n",
    "        if line.find(\">P_Seq\") != -1:\n",
    "            line = pos_pep_file.readline()\n",
    "            pos_pep_list.append(line.strip(\"\\n\"))\n",
    "        line = pos_pep_file.readline()\n",
    "    \n",
    "    return pos_pep_list"
   ]
  },
  {
   "cell_type": "code",
   "execution_count": 2,
   "metadata": {},
   "outputs": [
    {
     "name": "stdout",
     "output_type": "stream",
     "text": [
      "HLA-G*01:01 \tpositive samples: 2633\n",
      "HLA-G*01:03 \tpositive samples: 751\n",
      "HLA-G*01:04 \tpositive samples: 812\n",
      "HLA-E*01:01 \tpositive samples: 142\n",
      "HLA-E*01:03 \tpositive samples: 632\n",
      "4970\n"
     ]
    }
   ],
   "source": [
    "from collections import defaultdict\n",
    "\n",
    "data_path = \"/data/lujd/neoag_data/raw_data/\"\n",
    "hla2poe_pep_dict = defaultdict(list)\n",
    "\n",
    "hla2poe_pep_dict[\"HLA-G*01:01\"] = get_pos_pep_list(data_path + \"Pos_G0101.fasta\")\n",
    "hla2poe_pep_dict[\"HLA-G*01:03\"] = get_pos_pep_list(data_path + \"Pos_G0103.fasta\")\n",
    "hla2poe_pep_dict[\"HLA-G*01:04\"] = get_pos_pep_list(data_path + \"Pos_G0104.fasta\")\n",
    "hla2poe_pep_dict[\"HLA-E*01:01\"] = get_pos_pep_list(data_path + \"Pos_E0101.fasta\")\n",
    "hla2poe_pep_dict[\"HLA-E*01:03\"] = get_pos_pep_list(data_path + \"Pos_E0103.fasta\")\n",
    "\n",
    "total_num = 0\n",
    "for hla, seq_list in hla2poe_pep_dict.items():\n",
    "    print(hla,\"\\tpositive samples:\",len(seq_list))\n",
    "    total_num += len(seq_list)\n",
    "print(total_num)"
   ]
  },
  {
   "cell_type": "code",
   "execution_count": 4,
   "metadata": {},
   "outputs": [
    {
     "data": {
      "image/png": "[encoded data removed]",
      "text/plain": [
       "<Figure size 640x480 with 1 Axes>"
      ]
     },
     "metadata": {},
     "output_type": "display_data"
    }
   ],
   "source": [
    "import matplotlib.pyplot as plt\n",
    "\n",
    "name = [\"HLA-G*01:01\", \"HLA-G*01:03\", \"HLA-G*01:04\", \"HLA-E*01:01\", \"HLA-E*01:03\"]\n",
    "color = [\"blue\", \"blue\", \"blue\", \"red\", \"red\"]\n",
    "\n",
    "number = []\n",
    "for hla in name:\n",
    "    number.append(len(hla2poe_pep_dict[hla]))\n",
    "\n",
    "bar_plot = plt.bar(name, number, color=color, width=0.5, label='value')\n",
    "plt.bar_label(bar_plot, label_type='edge')\n",
    "plt.ylabel(\"number\")\n",
    "\n",
    "plt.show()"
   ]
  },
  {
   "cell_type": "code",
   "execution_count": 38,
   "metadata": {},
   "outputs": [
    {
     "name": "stdout",
     "output_type": "stream",
     "text": [
      "2633 751 812 142 632\n"
     ]
    }
   ],
   "source": [
    "print(\n",
    "    len(set(hla2poe_pep_dict[\"HLA-G*01:01\"])),\n",
    "    len(set(hla2poe_pep_dict[\"HLA-G*01:03\"])),\n",
    "    len(set(hla2poe_pep_dict[\"HLA-G*01:04\"])),\n",
    "    len(set(hla2poe_pep_dict[\"HLA-E*01:01\"])),\n",
    "    len(set(hla2poe_pep_dict[\"HLA-E*01:03\"]))\n",
    ")   # no duplicate sequences"
   ]
  },
  {
   "cell_type": "code",
   "execution_count": 28,
   "metadata": {},
   "outputs": [
    {
     "name": "stdout",
     "output_type": "stream",
     "text": [
      "              HLA        peptide  length  label\n",
      "2630  HLA-G*01:01     YSVWIGGSIL      10      1\n",
      "2631  HLA-G*01:01     YVAIQAVLSL      10      1\n",
      "2632  HLA-G*01:01      YYPNPPLVL       9      1\n",
      "2633  HLA-G*01:03  AERPPSKPPPVEL      13      1\n",
      "2634  HLA-G*01:03      AFPGASLYL       9      1\n"
     ]
    },
    {
     "data": {
      "text/plain": [
       "4970"
      ]
     },
     "execution_count": 28,
     "metadata": {},
     "output_type": "execute_result"
    }
   ],
   "source": [
    "import pandas as pd\n",
    "\n",
    "zeroshot_df = pd.DataFrame(columns=[\"HLA\",\"peptide\",\"length\",\"label\"])\n",
    "\n",
    "HLA_list, pep_list, len_list, label_list = [], [], [], []\n",
    "for hla, seq_list in hla2poe_pep_dict.items():\n",
    "    HLA_list += [hla]*len(seq_list)\n",
    "    pep_list += seq_list\n",
    "    len_list += [len(seq) for seq in seq_list]\n",
    "    label_list += [1]*len(seq_list)\n",
    "\n",
    "zeroshot_df[\"HLA\"] = HLA_list\n",
    "zeroshot_df[\"peptide\"] = pep_list\n",
    "zeroshot_df[\"length\"] = len_list\n",
    "zeroshot_df[\"label\"] = label_list\n",
    "\n",
    "print(zeroshot_df[2630:2635])\n",
    "print(len(zeroshot_df))"
   ]
  },
  {
   "cell_type": "code",
   "execution_count": 30,
   "metadata": {},
   "outputs": [],
   "source": [
    "zeroshot_df.to_csv(\n",
    "    \"/data/lujd/neoag_data/main_task/zeroshot_set.csv\"\n",
    "    )"
   ]
  },
  {
   "attachments": {},
   "cell_type": "markdown",
   "metadata": {},
   "source": [
    "2. build candidate pools for each HLA (only E/G)"
   ]
  },
  {
   "attachments": {},
   "cell_type": "markdown",
   "metadata": {},
   "source": [
    "(1) negative pool"
   ]
  },
  {
   "cell_type": "code",
   "execution_count": 33,
   "metadata": {},
   "outputs": [
    {
     "name": "stdout",
     "output_type": "stream",
     "text": [
      "Counter({9: 85607, 10: 59041, 11: 47780, 12: 43885, 13: 38074, 14: 31693, 8: 778})\n"
     ]
    }
   ],
   "source": [
    "import numpy as np\n",
    "from collections import Counter\n",
    "\n",
    "data_path = \"/data/lujd/neoag_data/main_task/\"\n",
    "\n",
    "neg_pep_seg_pools = np.load(\n",
    "        data_path + \"IEDB_negative_segments.npy\",       # seg_list\n",
    "        allow_pickle=True,\n",
    "        )\n",
    "print(Counter([len(_) for _ in neg_pep_seg_pools]))"
   ]
  },
  {
   "attachments": {},
   "cell_type": "markdown",
   "metadata": {},
   "source": [
    "(2) positive segments of HLA E/G"
   ]
  },
  {
   "cell_type": "code",
   "execution_count": 49,
   "metadata": {},
   "outputs": [
    {
     "name": "stdout",
     "output_type": "stream",
     "text": [
      "4970 4970 3613\n"
     ]
    }
   ],
   "source": [
    "import pandas as pd\n",
    "\n",
    "zeroshot_data = pd.read_csv(\n",
    "            data_path + 'zeroshot_set.csv', \n",
    "            index_col=0\n",
    "            )[['peptide', 'HLA', 'length', 'label']]\n",
    "\n",
    "print(\n",
    "    len(zeroshot_data),\n",
    "    len(zeroshot_data[zeroshot_data.label==1]),\n",
    "    zeroshot_data.peptide.nunique(),\n",
    ")"
   ]
  },
  {
   "cell_type": "code",
   "execution_count": 50,
   "metadata": {},
   "outputs": [
    {
     "name": "stdout",
     "output_type": "stream",
     "text": [
      "39 3613 306858\n"
     ]
    }
   ],
   "source": [
    "print(\n",
    "    len(set(neg_pep_seg_pools).intersection(set(zeroshot_data.peptide))),\n",
    "    len(set(zeroshot_data.peptide)),\n",
    "    len(set(neg_pep_seg_pools)),\n",
    "    )"
   ]
  },
  {
   "cell_type": "code",
   "execution_count": 56,
   "metadata": {},
   "outputs": [
    {
     "name": "stdout",
     "output_type": "stream",
     "text": [
      "8 \tnumber: 420\n",
      "9 \tnumber: 3765\n",
      "10 \tnumber: 454\n",
      "11 \tnumber: 185\n",
      "12 \tnumber: 63\n",
      "13 \tnumber: 39\n",
      "14 \tnumber: 19\n",
      "15 \tnumber: 25\n",
      "4970\n",
      "HLA-G*01:01 Counter({9: 1974, 8: 292, 10: 240, 11: 96, 12: 16, 13: 12, 14: 2, 15: 1})\n",
      "HLA-G*01:03 Counter({9: 609, 10: 49, 8: 42, 11: 20, 12: 14, 13: 7, 15: 6, 14: 4})\n",
      "HLA-G*01:04 Counter({9: 634, 10: 74, 8: 57, 11: 21, 12: 14, 13: 6, 14: 4, 15: 2})\n",
      "HLA-E*01:01 Counter({9: 128, 11: 4, 15: 4, 8: 3, 13: 2, 12: 1})\n",
      "HLA-E*01:03 Counter({9: 420, 10: 91, 11: 44, 8: 26, 12: 18, 15: 12, 13: 12, 14: 9})\n"
     ]
    }
   ],
   "source": [
    "lengths = [8, 9, 10, 11, 12, 13, 14, 15]\n",
    "total_num = 0\n",
    "for length in lengths:\n",
    "    print(length, \"\\tnumber:\",len(zeroshot_data[zeroshot_data.length == length]))\n",
    "    total_num += len(zeroshot_data[zeroshot_data.length==length])\n",
    "print(total_num)\n",
    "\n",
    "for hla in zeroshot_data.HLA.unique():\n",
    "    print(hla, Counter(zeroshot_data[zeroshot_data.HLA==hla].length))"
   ]
  },
  {
   "cell_type": "code",
   "execution_count": 57,
   "metadata": {},
   "outputs": [
    {
     "name": "stdout",
     "output_type": "stream",
     "text": [
      "5\n",
      "HLA: HLA-E*01:01\tpositive samples: 142\tsegment num: 606\n",
      "HLA: HLA-E*01:03\tpositive samples: 632\tsegment num: 3273\n",
      "HLA: HLA-G*01:01\tpositive samples: 2633\tsegment num: 8828\n",
      "HLA: HLA-G*01:03\tpositive samples: 751\tsegment num: 2869\n",
      "HLA: HLA-G*01:04\tpositive samples: 812\tsegment num: 2958\n"
     ]
    }
   ],
   "source": [
    "from collections import defaultdict\n",
    "\n",
    "lengths = [8, 9, 10, 11, 12, 13, 14, 15]\n",
    "HLA_list = list(set(zeroshot_data['HLA']))\n",
    "print(len(HLA_list))\n",
    "    \n",
    "pos_pep_segs_dict = defaultdict(set)\n",
    "for HLA in sorted(HLA_list):\n",
    "    cur_HLA_zeroshot_data = zeroshot_data[zeroshot_data['HLA'] == HLA]\n",
    "    curr_pep_set = set(cur_HLA_zeroshot_data['peptide'].to_list())\n",
    "    \n",
    "    for length in lengths:\n",
    "        for pep in curr_pep_set:\n",
    "            if len(pep) < length:\n",
    "                continue\n",
    "            startpos, stoppos = 0, length\n",
    "            while stoppos < len(pep) + 1:\n",
    "                pos_pep_segs_dict[HLA].add(pep[startpos: stoppos])\n",
    "                startpos += 1\n",
    "                stoppos += 1\n",
    "    print(\"HLA: {}\\tpositive samples: {}\\tsegment num: {}\".format(HLA, len(curr_pep_set), len(pos_pep_segs_dict[HLA])))  "
   ]
  },
  {
   "cell_type": "code",
   "execution_count": 58,
   "metadata": {},
   "outputs": [
    {
     "name": "stdout",
     "output_type": "stream",
     "text": [
      "HLA-E*01:01 Counter({8: 308, 9: 179, 10: 41, 11: 31, 12: 21, 13: 14, 14: 8, 15: 4})\n",
      "HLA-E*01:03 Counter({8: 1536, 9: 952, 10: 374, 11: 197, 12: 108, 13: 62, 14: 32, 15: 12})\n",
      "HLA-G*01:01 Counter({8: 5301, 9: 2794, 10: 509, 11: 161, 12: 42, 13: 17, 14: 3, 15: 1})\n",
      "HLA-G*01:03 Counter({8: 1593, 9: 877, 10: 190, 11: 101, 12: 57, 13: 30, 14: 15, 15: 6})\n",
      "HLA-G*01:04 Counter({8: 1693, 9: 923, 10: 193, 11: 82, 12: 40, 13: 18, 14: 7, 15: 2})\n"
     ]
    }
   ],
   "source": [
    "# validation\n",
    "for hla, pep_set in pos_pep_segs_dict.items():\n",
    "    print(hla, Counter([len(_) for _ in pep_set]))\n",
    "\n",
    "    for kk, vv in Counter([len(_) for _ in pep_set]).items():\n",
    "        assert kk in set(list(range(8,16)))\n",
    "\n",
    "    for pep in set(zeroshot_data[zeroshot_data['HLA']==hla]['peptide'].to_list()):\n",
    "        assert pep in pep_set\n",
    "        for length in range(8, 16):\n",
    "            startpos, stoppos = 0, length\n",
    "            while stoppos < len(pep) + 1:\n",
    "                assert pep[startpos: stoppos] in pep_set\n",
    "                startpos += 1\n",
    "                stoppos += 1"
   ]
  },
  {
   "attachments": {},
   "cell_type": "markdown",
   "metadata": {},
   "source": [
    "(3) remove positive segments from the negative pool"
   ]
  },
  {
   "cell_type": "code",
   "execution_count": 64,
   "metadata": {},
   "outputs": [
    {
     "name": "stdout",
     "output_type": "stream",
     "text": [
      "306858\n",
      "HLA-G*01:01 306847\n",
      "HLA-G*01:03 306852\n",
      "HLA-G*01:04 306852\n",
      "HLA-E*01:01 306841\n",
      "HLA-E*01:03 306823\n"
     ]
    }
   ],
   "source": [
    "import numpy as np \n",
    "\n",
    "zeroshot_candidate_pool = defaultdict(set)\n",
    "print(len(set(neg_pep_seg_pools)))\n",
    "\n",
    "for HLA in zeroshot_data.HLA.unique():\n",
    "    zeroshot_candidate_pool[HLA] = set(neg_pep_seg_pools) - pos_pep_segs_dict[HLA]\n",
    "for k, v in zeroshot_candidate_pool.items():\n",
    "    print(k, len(v))"
   ]
  },
  {
   "cell_type": "code",
   "execution_count": null,
   "metadata": {},
   "outputs": [],
   "source": [
    "np.save(data_path+\"zeroshot_allele2positive_segs.npy\", pos_pep_segs_dict)\n",
    "np.save(data_path+\"zeroshot_allele2candidate_pools.npy\", zeroshot_candidate_pool)"
   ]
  }
 ],
 "metadata": {
  "kernelspec": {
   "display_name": "Python 3.8.13 64-bit ('phla')",
   "language": "python",
   "name": "python3"
  },
  "language_info": {
   "codemirror_mode": {
    "name": "ipython",
    "version": 3
   },
   "file_extension": ".py",
   "mimetype": "text/x-python",
   "name": "python",
   "nbconvert_exporter": "python",
   "pygments_lexer": "ipython3",
   "version": "3.8.13"
  },
  "orig_nbformat": 4,
  "vscode": {
   "interpreter": {
    "hash": "b0469df6e709a2df7221cf6a41b4e84b201802bdff0592e7cbfef445384a2896"
   }
  }
 },
 "nbformat": 4,
 "nbformat_minor": 2
}
