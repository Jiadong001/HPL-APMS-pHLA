{
 "cells": [
  {
   "attachments": {},
   "cell_type": "markdown",
   "metadata": {},
   "source": [
    "1. collect whole HLA-E/G sequences from hla_prot.fasta"
   ]
  },
  {
   "cell_type": "code",
   "execution_count": 5,
   "metadata": {},
   "outputs": [],
   "source": [
    "def get_hla_seqs(fasta_name, hla_name):\n",
    "    hla_seq_file = open(fasta_name,\"r\")\n",
    "    line = hla_seq_file.readline()\n",
    "\n",
    "    seq_list = []\n",
    "    seq_num = 0\n",
    "    while line:\n",
    "        if line.find(hla_name) != -1:\n",
    "            seq_num += 1\n",
    "            seq_len = int(line[\n",
    "                line.find(\" bp\")-3 : line.find(\" bp\")\n",
    "                ])\n",
    "            line = hla_seq_file.readline()\n",
    "\n",
    "            seq = \"\"\n",
    "            while line.find(\"bp\") == -1:        # not find bp\n",
    "                seq += line.strip(\"\\n\")\n",
    "                line = hla_seq_file.readline()\n",
    "            \n",
    "            assert len(seq)==seq_len\n",
    "            seq_list.append(seq)\n",
    "        else:\n",
    "            line = hla_seq_file.readline()\n",
    "\n",
    "    assert seq_num==len(seq_list)\n",
    "    return seq_list"
   ]
  },
  {
   "cell_type": "code",
   "execution_count": 6,
   "metadata": {},
   "outputs": [],
   "source": [
    "# get each HLA's whole sequences from .fasta\n",
    "from collections import defaultdict\n",
    "data_path = \"/data/lujd/neoag_data/raw_data/hla_prot.fasta\"\n",
    "\n",
    "hla2seqs_dict = defaultdict(list)\n",
    "hla_list = [\"G*01:01\", \"G*01:03\", \"G*01:04\", \"E*01:01\",\"E*01:03\"]\n",
    "for hla in hla_list:\n",
    "    hla2seqs_dict[hla] = get_hla_seqs(data_path, hla)"
   ]
  },
  {
   "cell_type": "code",
   "execution_count": 7,
   "metadata": {},
   "outputs": [
    {
     "name": "stdout",
     "output_type": "stream",
     "text": [
      "G*01:01 49 4 [181, 338, 273, 298]\n",
      "G*01:03 2 1 [338]\n",
      "G*01:04 11 3 [312, 338, 273]\n",
      "E*01:01 83 2 [358, 181]\n",
      "E*01:03 84 1 [358]\n"
     ]
    }
   ],
   "source": [
    "# the number of sequences of each HLA\n",
    "for hla, seq_list in hla2seqs_dict.items():\n",
    "    seq_set = set(seq_list)\n",
    "    print(hla, len(seq_list), len(seq_set),\n",
    "        [len(seq) for seq in seq_set]\n",
    "    )\n",
    "\n",
    "    hla2seqs_dict[hla] = list(seq_set)      # remove duplicate sequences"
   ]
  },
  {
   "attachments": {},
   "cell_type": "markdown",
   "metadata": {},
   "source": [
    "2. clip sequences"
   ]
  },
  {
   "cell_type": "code",
   "execution_count": 23,
   "metadata": {},
   "outputs": [],
   "source": [
    "from collections import defaultdict\n",
    "\n",
    "hla2clip_dict = defaultdict(list)\n",
    "for hla, seq_list in hla2seqs_dict.items():\n",
    "    clip_list = []\n",
    "    for seq in seq_list:\n",
    "        if len(seq) < 182:\n",
    "            clip_list.append(seq)\n",
    "        else:\n",
    "            if hla.find(\"G\") != -1:\n",
    "                clip_list.append(seq[24:206])\n",
    "            elif hla.find(\"E\") != -1:\n",
    "                clip_list.append(seq[21:203])   # \"GSH...\" starts from 21\n",
    "    hla2clip_dict[hla] = clip_list"
   ]
  },
  {
   "cell_type": "code",
   "execution_count": 24,
   "metadata": {},
   "outputs": [
    {
     "name": "stdout",
     "output_type": "stream",
     "text": [
      "G*01:01 4 3 [182, 182, 181]\n",
      "G*01:03 1 1 [182]\n",
      "G*01:04 3 2 [182, 182]\n",
      "E*01:01 2 2 [182, 181]\n",
      "E*01:03 1 1 [182]\n"
     ]
    }
   ],
   "source": [
    "# the number of clip sequences of each HLA\n",
    "for hla, seq_list in hla2clip_dict.items():\n",
    "    seq_set = sorted(set(seq_list))\n",
    "    print(hla, len(seq_list), len(seq_set),\n",
    "        [len(seq) for seq in seq_set]\n",
    "    )\n",
    "\n",
    "    hla2clip_dict[hla] = list(seq_set)      # remove duplicate sequences"
   ]
  },
  {
   "attachments": {},
   "cell_type": "markdown",
   "metadata": {},
   "source": [
    "#### Summary\n",
    "\n",
    "|HLA_name|number|num_whole_seq|num_clip_seq|\n",
    "|:-:|:-:|:-:|:-:|\n",
    "|G*01:01|49|4|3|\n",
    "|G*01:03|2|1|1|\n",
    "|G*01:04|11|3|2|\n",
    "|E*01:01|83|2|2|\n",
    "|E*01:03|84|1|1|\n",
    "\n",
    "G*01:01 [181, 338, 273, 298]\n",
    "- 181: 01:01:04, 01:01:13\n",
    "- 273: 01:01:7, 01:01:15, 01:01:18, 01:01:19   -> clip GVVD...\n",
    "- 298: 01:01:11\n",
    "- 181, 273, 298 are subsegments of 338\n",
    "\n",
    "G*01:04 [312, 338, 273] \n",
    "- 273: 01:04:02, 01:04:05\n",
    "- 312: 01:04:06\n",
    "- 273, 312 are subsegments of 338\n",
    "\n",
    "E*01:01 [358, 181]\n",
    "- E*01:01:02 181\n",
    "- else 358\n",
    "\n",
    "clip: _ * _ : _ : 01 (:01)"
   ]
  },
  {
   "attachments": {},
   "cell_type": "markdown",
   "metadata": {},
   "source": [
    "3. check these clip sequences "
   ]
  },
  {
   "cell_type": "code",
   "execution_count": 25,
   "metadata": {},
   "outputs": [
    {
     "data": {
      "text/plain": [
       "defaultdict(list,\n",
       "            {'G*01:01': ['GSHSMRYFSAAVSRPGRGEPRFIAMGYVDDTQFVRFDSDSACPRMEPRAPWVEQEGPEYWEEETRNTKAHAQTDRMNLQTLRGYYNQSEASSHTLQWMIGCDLGSDGRLLRGYEQYAYDGKDYLALNEDLRSWTAADTAAQISKRKCEAANVAEQRRAYLEGTCVEWLHRYLENGKEMLQRA',\n",
       "              'GYVDDTQFVRFDSDSACPRMEPRAPWVEQEGPEYWEEETRNTKAHAQTDRMNLQTLRGYYNQSEASSHTLQWMIGCDLGSDGRLLRGYEQYAYDGKDYLALNEDLRSWTAADTAAQISKRKCEAANVAEQRRAYLEGTCVEWLHRYLENGKEMLQRADPPKTHVTHHPVFDYEATLRCWALG',\n",
       "              'SHSMRYFSAAVSRPGRGEPRFIAMGYVDDTQFVRFDSDSACPRMEPRAPWVEQEGPEYWEEETRNTKAHAQTDRMNLQTLRGYYNQSEASSHTLQWMIGCDLGSDGRLLRGYEQYAYDGKDYLALNEDLRSWTAADTAAQISKRKCEAANVAEQRRAYLEGTCVEWLHRYLENGKEMLQRA'],\n",
       "             'G*01:03': ['GSHSMRYFSAAVSRPGRGEPRFIAMGYVDDSQFVRFDSDSACPRMEPRAPWVEQEGPEYWEEETRNTKAHAQTDRMNLQTLRGYYNQSEASSHTLQWMIGCDLGSDGRLLRGYEQYAYDGKDYLALNEDLRSWTAADTAAQISKRKCEAANVAEQRRAYLEGTCVEWLHRYLENGKEMLQRA'],\n",
       "             'G*01:04': ['GSHSMRYFSAAVSRPGRGEPRFIAMGYVDDTQFVRFDSDSACPRMEPRAPWVEQEGPEYWEEETRNTKAHAQTDRMNLQTLRGYYNQSEASSHTLQWMIGCDLGSDGRLIRGYEQYAYDGKDYLALNEDLRSWTAADTAAQISKRKCEAANVAEQRRAYLEGTCVEWLHRYLENGKEMLQRA',\n",
       "              'GYVDDTQFVRFDSDSACPRMEPRAPWVEQEGPEYWEEETRNTKAHAQTDRMNLQTLRGYYNQSEASSHTLQWMIGCDLGSDGRLIRGYEQYAYDGKDYLALNEDLRSWTAADTAAQISKRKCEAANVAEQRRAYLEGTCVEWLHRYLENGKEMLQRADPPKTHVTHHPVFDYEATLRCWALG'],\n",
       "             'E*01:01': ['GSHSLKYFHTSVSRPGRGEPRFISVGYVDDTQFVRFDNDAASPRMVPRAPWMEQEGSEYWDRETRSARDTAQIFRVNLRTLRGYYNQSEAGSHTLQWMHGCELGPDRRFLRGYEQFAYDGKDYLTLNEDLRSWTAVDTAAQISEQKSNDASEAEHQRAYLEDTCVEWLHKYLEKGKETLLHL',\n",
       "              'SHSLKYFHTSVSRPGRGEPRFISVGYVDDTQFVRFDNDAASPRMVPRAPWMEQEGSEYWDRETRSARDTAQIFRVNLRTLRGYYNQSEAGSHTLQWMHGCELGPDRRFLRGYEQFAYDGKDYLTLNEDLRSWTAVDTAAQISEQKSNDASEAEHQRAYLEDTCVEWLHKYLEKGKETLLHL'],\n",
       "             'E*01:03': ['GSHSLKYFHTSVSRPGRGEPRFISVGYVDDTQFVRFDNDAASPRMVPRAPWMEQEGSEYWDRETRSARDTAQIFRVNLRTLRGYYNQSEAGSHTLQWMHGCELGPDGRFLRGYEQFAYDGKDYLTLNEDLRSWTAVDTAAQISEQKSNDASEAEHQRAYLEDTCVEWLHKYLEKGKETLLHL']})"
      ]
     },
     "execution_count": 25,
     "metadata": {},
     "output_type": "execute_result"
    }
   ],
   "source": [
    "hla2clip_dict"
   ]
  },
  {
   "attachments": {},
   "cell_type": "markdown",
   "metadata": {},
   "source": [
    "(1) HLA - G\n"
   ]
  },
  {
   "cell_type": "code",
   "execution_count": 26,
   "metadata": {},
   "outputs": [
    {
     "name": "stdout",
     "output_type": "stream",
     "text": [
      "True False False False False\n"
     ]
    }
   ],
   "source": [
    "print(\n",
    "    hla2clip_dict[\"G*01:01\"][0][1:] == hla2clip_dict[\"G*01:01\"][2],\n",
    "    hla2clip_dict[\"G*01:01\"][0] == hla2clip_dict[\"G*01:03\"][0],\n",
    "    hla2clip_dict[\"G*01:01\"][0] == hla2clip_dict[\"G*01:04\"][0],\n",
    "    hla2clip_dict[\"G*01:03\"][0] == hla2clip_dict[\"G*01:04\"][0],\n",
    "    hla2clip_dict[\"G*01:01\"][1] == hla2clip_dict[\"G*01:04\"][1]\n",
    ")"
   ]
  },
  {
   "cell_type": "code",
   "execution_count": 27,
   "metadata": {},
   "outputs": [
    {
     "name": "stdout",
     "output_type": "stream",
     "text": [
      "01 vs 03:  30 T S\n",
      "03 vs 04:  30 S T\n",
      "01 vs 04:  109 L I\n",
      "03 vs 04:  109 L I\n"
     ]
    }
   ],
   "source": [
    "for ind in range(len(hla2clip_dict[\"G*01:01\"][0])):\n",
    "    if hla2clip_dict[\"G*01:01\"][0][ind] != hla2clip_dict[\"G*01:03\"][0][ind]:\n",
    "        print(\"01 vs 03: \", ind, hla2clip_dict[\"G*01:01\"][0][ind], hla2clip_dict[\"G*01:03\"][0][ind])\n",
    "    if hla2clip_dict[\"G*01:01\"][0][ind] != hla2clip_dict[\"G*01:04\"][0][ind]:\n",
    "        print(\"01 vs 04: \", ind, hla2clip_dict[\"G*01:01\"][0][ind], hla2clip_dict[\"G*01:04\"][0][ind])\n",
    "    if hla2clip_dict[\"G*01:03\"][0][ind] != hla2clip_dict[\"G*01:04\"][0][ind]:\n",
    "        print(\"03 vs 04: \", ind, hla2clip_dict[\"G*01:03\"][0][ind], hla2clip_dict[\"G*01:04\"][0][ind])\n",
    "# vs 01:\n",
    "# 03 -> 30  S\n",
    "# 04 -> 109 I"
   ]
  },
  {
   "cell_type": "code",
   "execution_count": 28,
   "metadata": {},
   "outputs": [
    {
     "name": "stdout",
     "output_type": "stream",
     "text": [
      "01 vs 04:  84 L I\n"
     ]
    }
   ],
   "source": [
    "# these sequences start from GYVD, instead of GSHS.\n",
    "\n",
    "for ind in range(len(hla2clip_dict[\"G*01:01\"][1])):\n",
    "    if hla2clip_dict[\"G*01:01\"][1][ind] != hla2clip_dict[\"G*01:04\"][1][ind]:\n",
    "        print(\"01 vs 04: \", ind, hla2clip_dict[\"G*01:01\"][1][ind], hla2clip_dict[\"G*01:04\"][1][ind])"
   ]
  },
  {
   "attachments": {},
   "cell_type": "markdown",
   "metadata": {},
   "source": [
    "(2) HLA - E"
   ]
  },
  {
   "cell_type": "code",
   "execution_count": 29,
   "metadata": {},
   "outputs": [
    {
     "name": "stdout",
     "output_type": "stream",
     "text": [
      "True False\n"
     ]
    }
   ],
   "source": [
    "print(\n",
    "    hla2clip_dict[\"E*01:01\"][0][1:] == hla2clip_dict[\"E*01:01\"][1],\n",
    "    hla2clip_dict[\"E*01:01\"][0] == hla2clip_dict[\"E*01:03\"][0]\n",
    ")"
   ]
  },
  {
   "cell_type": "code",
   "execution_count": 30,
   "metadata": {},
   "outputs": [
    {
     "name": "stdout",
     "output_type": "stream",
     "text": [
      "01 vs 03:  106 R G\n"
     ]
    }
   ],
   "source": [
    "for ind in range(len(hla2clip_dict[\"E*01:01\"][1])):\n",
    "    if hla2clip_dict[\"E*01:01\"][0][ind] != hla2clip_dict[\"E*01:03\"][0][ind]:\n",
    "        print(\"01 vs 03: \", ind, hla2clip_dict[\"E*01:01\"][0][ind], hla2clip_dict[\"E*01:03\"][0][ind])"
   ]
  },
  {
   "attachments": {},
   "cell_type": "markdown",
   "metadata": {},
   "source": [
    "4. final decision (use clip_seqs that start from \"GSHS\", 182)"
   ]
  },
  {
   "cell_type": "code",
   "execution_count": 41,
   "metadata": {},
   "outputs": [
    {
     "data": {
      "text/html": [
       "<div>\n",
       "<style scoped>\n",
       "    .dataframe tbody tr th:only-of-type {\n",
       "        vertical-align: middle;\n",
       "    }\n",
       "\n",
       "    .dataframe tbody tr th {\n",
       "        vertical-align: top;\n",
       "    }\n",
       "\n",
       "    .dataframe thead th {\n",
       "        text-align: right;\n",
       "    }\n",
       "</style>\n",
       "<table border=\"1\" class=\"dataframe\">\n",
       "  <thead>\n",
       "    <tr style=\"text-align: right;\">\n",
       "      <th></th>\n",
       "      <th>HLA_name</th>\n",
       "      <th>full</th>\n",
       "      <th>clip</th>\n",
       "      <th>short</th>\n",
       "    </tr>\n",
       "  </thead>\n",
       "  <tbody>\n",
       "    <tr>\n",
       "      <th>0</th>\n",
       "      <td>HLA-G*01:01</td>\n",
       "      <td>NaN</td>\n",
       "      <td>GSHSMRYFSAAVSRPGRGEPRFIAMGYVDDTQFVRFDSDSACPRME...</td>\n",
       "      <td>NaN</td>\n",
       "    </tr>\n",
       "    <tr>\n",
       "      <th>1</th>\n",
       "      <td>HLA-G*01:03</td>\n",
       "      <td>NaN</td>\n",
       "      <td>GSHSMRYFSAAVSRPGRGEPRFIAMGYVDDSQFVRFDSDSACPRME...</td>\n",
       "      <td>NaN</td>\n",
       "    </tr>\n",
       "    <tr>\n",
       "      <th>2</th>\n",
       "      <td>HLA-G*01:04</td>\n",
       "      <td>NaN</td>\n",
       "      <td>GSHSMRYFSAAVSRPGRGEPRFIAMGYVDDTQFVRFDSDSACPRME...</td>\n",
       "      <td>NaN</td>\n",
       "    </tr>\n",
       "    <tr>\n",
       "      <th>3</th>\n",
       "      <td>HLA-E*01:01</td>\n",
       "      <td>NaN</td>\n",
       "      <td>GSHSLKYFHTSVSRPGRGEPRFISVGYVDDTQFVRFDNDAASPRMV...</td>\n",
       "      <td>NaN</td>\n",
       "    </tr>\n",
       "    <tr>\n",
       "      <th>4</th>\n",
       "      <td>HLA-E*01:03</td>\n",
       "      <td>NaN</td>\n",
       "      <td>GSHSLKYFHTSVSRPGRGEPRFISVGYVDDTQFVRFDNDAASPRMV...</td>\n",
       "      <td>NaN</td>\n",
       "    </tr>\n",
       "  </tbody>\n",
       "</table>\n",
       "</div>"
      ],
      "text/plain": [
       "      HLA_name full                                               clip short\n",
       "0  HLA-G*01:01  NaN  GSHSMRYFSAAVSRPGRGEPRFIAMGYVDDTQFVRFDSDSACPRME...   NaN\n",
       "1  HLA-G*01:03  NaN  GSHSMRYFSAAVSRPGRGEPRFIAMGYVDDSQFVRFDSDSACPRME...   NaN\n",
       "2  HLA-G*01:04  NaN  GSHSMRYFSAAVSRPGRGEPRFIAMGYVDDTQFVRFDSDSACPRME...   NaN\n",
       "3  HLA-E*01:01  NaN  GSHSLKYFHTSVSRPGRGEPRFISVGYVDDTQFVRFDNDAASPRMV...   NaN\n",
       "4  HLA-E*01:03  NaN  GSHSLKYFHTSVSRPGRGEPRFISVGYVDDTQFVRFDNDAASPRMV...   NaN"
      ]
     },
     "execution_count": 41,
     "metadata": {},
     "output_type": "execute_result"
    }
   ],
   "source": [
    "import pandas as pd\n",
    "hla_eg_seq_df = pd.DataFrame(columns=[\"HLA_name\",\"full\",\"clip\",\"short\"])\n",
    "hla_eg_seq_df[\"HLA_name\"] = [\n",
    "                            \"HLA-G*01:01\", \n",
    "                            \"HLA-G*01:03\", \n",
    "                            \"HLA-G*01:04\", \n",
    "                            \"HLA-E*01:01\",\n",
    "                            \"HLA-E*01:03\"]\n",
    "hla_eg_seq_df[\"clip\"] = [\n",
    "                        hla2clip_dict[\"G*01:01\"][0],\n",
    "                        hla2clip_dict[\"G*01:03\"][0],\n",
    "                        hla2clip_dict[\"G*01:04\"][0],\n",
    "                        hla2clip_dict[\"E*01:01\"][0],\n",
    "                        hla2clip_dict[\"E*01:03\"][0]]\n",
    "hla_eg_seq_df"
   ]
  },
  {
   "attachments": {},
   "cell_type": "markdown",
   "metadata": {},
   "source": [
    "5. add it to our HLA_sequence_dict.csv"
   ]
  },
  {
   "attachments": {},
   "cell_type": "markdown",
   "metadata": {},
   "source": [
    "(1) clip -> short"
   ]
  },
  {
   "cell_type": "code",
   "execution_count": 37,
   "metadata": {},
   "outputs": [
    {
     "data": {
      "text/html": [
       "<div>\n",
       "<style scoped>\n",
       "    .dataframe tbody tr th:only-of-type {\n",
       "        vertical-align: middle;\n",
       "    }\n",
       "\n",
       "    .dataframe tbody tr th {\n",
       "        vertical-align: top;\n",
       "    }\n",
       "\n",
       "    .dataframe thead th {\n",
       "        text-align: right;\n",
       "    }\n",
       "</style>\n",
       "<table border=\"1\" class=\"dataframe\">\n",
       "  <thead>\n",
       "    <tr style=\"text-align: right;\">\n",
       "      <th></th>\n",
       "      <th>HLA_name</th>\n",
       "      <th>full</th>\n",
       "      <th>clip</th>\n",
       "      <th>short</th>\n",
       "    </tr>\n",
       "  </thead>\n",
       "  <tbody>\n",
       "    <tr>\n",
       "      <th>0</th>\n",
       "      <td>HLA-A*01:01</td>\n",
       "      <td>MAVMAPRTLLLLLSGALALTQTWAGSHSMRYFFTSVSRPGRGEPRF...</td>\n",
       "      <td>GSHSMRYFFTSVSRPGRGEPRFIAVGYVDDTQFVRFDSDAASQKME...</td>\n",
       "      <td>YFAMYQENMAHTDANTLYIIYRDYTWVARVYRGY</td>\n",
       "    </tr>\n",
       "    <tr>\n",
       "      <th>1</th>\n",
       "      <td>HLA-A*02:01</td>\n",
       "      <td>MAVMAPRTLVLLLSGALALTQTWAGSHSMRYFFTSVSRPGRGEPRF...</td>\n",
       "      <td>GSHSMRYFFTSVSRPGRGEPRFIAVGYVDDTQFVRFDSDAASQRME...</td>\n",
       "      <td>YFAMYGEKVAHTHVDTLYVRYHYYTWAVLAYTWY</td>\n",
       "    </tr>\n",
       "    <tr>\n",
       "      <th>2</th>\n",
       "      <td>HLA-A*02:02</td>\n",
       "      <td>MAVMAPRTLVLLLSGALALTQTWAGSHSMRYFFTSVSRPGRGEPRF...</td>\n",
       "      <td>GSHSMRYFFTSVSRPGRGEPRFIAVGYVDDTQFVRFDSDAASRRME...</td>\n",
       "      <td>YFAMYGEKVAHTHVDTLYLRYHYYTWAVWAYTWY</td>\n",
       "    </tr>\n",
       "    <tr>\n",
       "      <th>3</th>\n",
       "      <td>HLA-A*02:03</td>\n",
       "      <td>MAVMAPRTLVLLLSGALALTQTWAGSHSMRYFFTSVSRPGRGEPRF...</td>\n",
       "      <td>GSHSMRYFFTSVSRPGRGEPRFIAVGYVDDTQFVRFDSDAASQRME...</td>\n",
       "      <td>YFAMYGEKVAHTHVDTLYVRYHYYTWAEWAYTWY</td>\n",
       "    </tr>\n",
       "    <tr>\n",
       "      <th>4</th>\n",
       "      <td>HLA-A*02:04</td>\n",
       "      <td>MAVMAPRTLVLLLSGALALTQTWAGSHSMRYFFTSVSRPGRGEPRF...</td>\n",
       "      <td>GSHSMRYFFTSVSRPGRGEPRFIAVGYVDDTQFVRFDSDAASQRME...</td>\n",
       "      <td>YFAMYGEKVAHTHVDTLYVMYHYYTWAVLAYTWY</td>\n",
       "    </tr>\n",
       "  </tbody>\n",
       "</table>\n",
       "</div>"
      ],
      "text/plain": [
       "      HLA_name                                               full  \\\n",
       "0  HLA-A*01:01  MAVMAPRTLLLLLSGALALTQTWAGSHSMRYFFTSVSRPGRGEPRF...   \n",
       "1  HLA-A*02:01  MAVMAPRTLVLLLSGALALTQTWAGSHSMRYFFTSVSRPGRGEPRF...   \n",
       "2  HLA-A*02:02  MAVMAPRTLVLLLSGALALTQTWAGSHSMRYFFTSVSRPGRGEPRF...   \n",
       "3  HLA-A*02:03  MAVMAPRTLVLLLSGALALTQTWAGSHSMRYFFTSVSRPGRGEPRF...   \n",
       "4  HLA-A*02:04  MAVMAPRTLVLLLSGALALTQTWAGSHSMRYFFTSVSRPGRGEPRF...   \n",
       "\n",
       "                                                clip  \\\n",
       "0  GSHSMRYFFTSVSRPGRGEPRFIAVGYVDDTQFVRFDSDAASQKME...   \n",
       "1  GSHSMRYFFTSVSRPGRGEPRFIAVGYVDDTQFVRFDSDAASQRME...   \n",
       "2  GSHSMRYFFTSVSRPGRGEPRFIAVGYVDDTQFVRFDSDAASRRME...   \n",
       "3  GSHSMRYFFTSVSRPGRGEPRFIAVGYVDDTQFVRFDSDAASQRME...   \n",
       "4  GSHSMRYFFTSVSRPGRGEPRFIAVGYVDDTQFVRFDSDAASQRME...   \n",
       "\n",
       "                                short  \n",
       "0  YFAMYQENMAHTDANTLYIIYRDYTWVARVYRGY  \n",
       "1  YFAMYGEKVAHTHVDTLYVRYHYYTWAVLAYTWY  \n",
       "2  YFAMYGEKVAHTHVDTLYLRYHYYTWAVWAYTWY  \n",
       "3  YFAMYGEKVAHTHVDTLYVRYHYYTWAEWAYTWY  \n",
       "4  YFAMYGEKVAHTHVDTLYVMYHYYTWAVLAYTWY  "
      ]
     },
     "execution_count": 37,
     "metadata": {},
     "output_type": "execute_result"
    }
   ],
   "source": [
    "import pandas as pd\n",
    "hla_abc_seq_df = pd.read_csv(\n",
    "    \"/data/lujd/neoag_data/main_task/HLA_sequence_dict.csv\",index_col=0)\n",
    "hla_abc_seq_df[:5]"
   ]
  },
  {
   "cell_type": "code",
   "execution_count": 38,
   "metadata": {},
   "outputs": [
    {
     "name": "stdout",
     "output_type": "stream",
     "text": [
      "GSHSMRYFFTSVSRPGRGEPRFIAVGYVDDTQFVRFDSDAASQKMEPRAPWIEQEGPEYWDQETRNMKAHSQTDRANLGTLRGYYNQSEDGSHTIQIMYGCDVGPDGRFLRGYRQDAYDGKDYIALNEDLRSWTAADMAAQITKRKWEAVHAAEQRRVYLEGRCVDGLRRYLENGKETLQRT\n",
      "YFAMYQENMAHTDANTLYIIYRDYTWVARVYRGY\n"
     ]
    }
   ],
   "source": [
    "hla_abc_clip = hla_abc_seq_df[\"clip\"]\n",
    "hla_abc_short = hla_abc_seq_df[\"short\"]\n",
    "print(hla_abc_clip[0])\n",
    "print(hla_abc_short[0])"
   ]
  },
  {
   "cell_type": "code",
   "execution_count": 39,
   "metadata": {},
   "outputs": [
    {
     "data": {
      "text/plain": [
       "True"
      ]
     },
     "execution_count": 39,
     "metadata": {},
     "output_type": "execute_result"
    }
   ],
   "source": [
    "short_position = [7,9,24,45,59,62,63,66,67,69,70,73,74,76,77,80,81,84,95,97,99,\n",
    "                    114,116,118,143,147,150,152,156,158,159,163,167,171]        # from NetMHCpan\n",
    "short_position = [pos-1 for pos in short_position]\n",
    "short_seq = \"\"\n",
    "for ind in short_position:\n",
    "    short_seq += hla_abc_clip[0][ind]\n",
    "\n",
    "short_seq == hla_abc_short[0]"
   ]
  },
  {
   "cell_type": "code",
   "execution_count": 42,
   "metadata": {},
   "outputs": [
    {
     "data": {
      "text/html": [
       "<div>\n",
       "<style scoped>\n",
       "    .dataframe tbody tr th:only-of-type {\n",
       "        vertical-align: middle;\n",
       "    }\n",
       "\n",
       "    .dataframe tbody tr th {\n",
       "        vertical-align: top;\n",
       "    }\n",
       "\n",
       "    .dataframe thead th {\n",
       "        text-align: right;\n",
       "    }\n",
       "</style>\n",
       "<table border=\"1\" class=\"dataframe\">\n",
       "  <thead>\n",
       "    <tr style=\"text-align: right;\">\n",
       "      <th></th>\n",
       "      <th>HLA_name</th>\n",
       "      <th>full</th>\n",
       "      <th>clip</th>\n",
       "      <th>short</th>\n",
       "    </tr>\n",
       "  </thead>\n",
       "  <tbody>\n",
       "    <tr>\n",
       "      <th>0</th>\n",
       "      <td>HLA-G*01:01</td>\n",
       "      <td>NaN</td>\n",
       "      <td>GSHSMRYFSAAVSRPGRGEPRFIAMGYVDDTQFVRFDSDSACPRME...</td>\n",
       "      <td>YSAMYEENTAHTDMNTLYLWIEYYSCAVRAYTWY</td>\n",
       "    </tr>\n",
       "    <tr>\n",
       "      <th>1</th>\n",
       "      <td>HLA-G*01:03</td>\n",
       "      <td>NaN</td>\n",
       "      <td>GSHSMRYFSAAVSRPGRGEPRFIAMGYVDDSQFVRFDSDSACPRME...</td>\n",
       "      <td>YSAMYEENTAHTDMNTLYLWIEYYSCAVRAYTWY</td>\n",
       "    </tr>\n",
       "    <tr>\n",
       "      <th>2</th>\n",
       "      <td>HLA-G*01:04</td>\n",
       "      <td>NaN</td>\n",
       "      <td>GSHSMRYFSAAVSRPGRGEPRFIAMGYVDDTQFVRFDSDSACPRME...</td>\n",
       "      <td>YSAMYEENTAHTDMNTLYLWIEYYSCAVRAYTWY</td>\n",
       "    </tr>\n",
       "    <tr>\n",
       "      <th>3</th>\n",
       "      <td>HLA-E*01:01</td>\n",
       "      <td>NaN</td>\n",
       "      <td>GSHSLKYFHTSVSRPGRGEPRFISVGYVDDTQFVRFDNDAASPRMV...</td>\n",
       "      <td>YHSMYRESADTIFVNTLYLWHEFYSSAEQAYTWY</td>\n",
       "    </tr>\n",
       "    <tr>\n",
       "      <th>4</th>\n",
       "      <td>HLA-E*01:03</td>\n",
       "      <td>NaN</td>\n",
       "      <td>GSHSLKYFHTSVSRPGRGEPRFISVGYVDDTQFVRFDNDAASPRMV...</td>\n",
       "      <td>YHSMYRESADTIFVNTLYLWHEFYSSAEQAYTWY</td>\n",
       "    </tr>\n",
       "  </tbody>\n",
       "</table>\n",
       "</div>"
      ],
      "text/plain": [
       "      HLA_name full                                               clip  \\\n",
       "0  HLA-G*01:01  NaN  GSHSMRYFSAAVSRPGRGEPRFIAMGYVDDTQFVRFDSDSACPRME...   \n",
       "1  HLA-G*01:03  NaN  GSHSMRYFSAAVSRPGRGEPRFIAMGYVDDSQFVRFDSDSACPRME...   \n",
       "2  HLA-G*01:04  NaN  GSHSMRYFSAAVSRPGRGEPRFIAMGYVDDTQFVRFDSDSACPRME...   \n",
       "3  HLA-E*01:01  NaN  GSHSLKYFHTSVSRPGRGEPRFISVGYVDDTQFVRFDNDAASPRMV...   \n",
       "4  HLA-E*01:03  NaN  GSHSLKYFHTSVSRPGRGEPRFISVGYVDDTQFVRFDNDAASPRMV...   \n",
       "\n",
       "                                short  \n",
       "0  YSAMYEENTAHTDMNTLYLWIEYYSCAVRAYTWY  \n",
       "1  YSAMYEENTAHTDMNTLYLWIEYYSCAVRAYTWY  \n",
       "2  YSAMYEENTAHTDMNTLYLWIEYYSCAVRAYTWY  \n",
       "3  YHSMYRESADTIFVNTLYLWHEFYSSAEQAYTWY  \n",
       "4  YHSMYRESADTIFVNTLYLWHEFYSSAEQAYTWY  "
      ]
     },
     "execution_count": 42,
     "metadata": {},
     "output_type": "execute_result"
    }
   ],
   "source": [
    "# HLA E/G\n",
    "for i in range(len(hla_eg_seq_df[\"clip\"])):\n",
    "    short_seq = \"\"\n",
    "    for ind in short_position:\n",
    "        short_seq += hla_eg_seq_df[\"clip\"][i][ind]\n",
    "    hla_eg_seq_df[\"short\"][i] = short_seq\n",
    "hla_eg_seq_df"
   ]
  },
  {
   "attachments": {},
   "cell_type": "markdown",
   "metadata": {},
   "source": [
    "(2) cat and save"
   ]
  },
  {
   "cell_type": "code",
   "execution_count": 43,
   "metadata": {},
   "outputs": [
    {
     "name": "stdout",
     "output_type": "stream",
     "text": [
      "HLA-A*02:50\n",
      "HLA-A*24:06\n",
      "HLA-A*24:13\n",
      "HLA-B*45:06\n"
     ]
    }
   ],
   "source": [
    "hla_seq_df = pd.concat(\n",
    "    (hla_abc_seq_df, hla_eg_seq_df),\n",
    "    axis=0\n",
    "    )\n",
    "i=0\n",
    "for seq in hla_seq_df[\"clip\"]:\n",
    "    if len(seq) != 182:\n",
    "        print(hla_seq_df[\"HLA_name\"][i])\n",
    "    i+=1"
   ]
  },
  {
   "cell_type": "code",
   "execution_count": 45,
   "metadata": {},
   "outputs": [],
   "source": [
    "hla_seq_df.to_csv(\n",
    "    \"/data/lujd/neoag_data/main_task/HLA_sequence_dict_new.csv\"\n",
    "    )"
   ]
  },
  {
   "cell_type": "code",
   "execution_count": 87,
   "metadata": {},
   "outputs": [
    {
     "data": {
      "text/plain": [
       "117"
      ]
     },
     "execution_count": 87,
     "metadata": {},
     "output_type": "execute_result"
    }
   ],
   "source": [
    "import pandas as pd\n",
    "\n",
    "hla_abc_seq_df = pd.read_csv(\n",
    "    \"/data/lujd/neoag_data/main_task/HLA_sequence_dict_new.csv\",index_col=0)\n",
    "\n",
    "HLAA_file = open(\"HLA_G_clip.txt\",\"w\")\n",
    "\n",
    "hla_clip_list = hla_abc_seq_df[\"clip\"].to_list()\n",
    "hla_a_clip_list = hla_clip_list[112:115]\n",
    "for seq in hla_a_clip_list:\n",
    "    HLAA_file.write(f\"{seq}\\n\")\n",
    "\n",
    "HLAA_file.close()\n",
    "len(hla_clip_list)"
   ]
  },
  {
   "cell_type": "code",
   "execution_count": 90,
   "metadata": {},
   "outputs": [
    {
     "name": "stdout",
     "output_type": "stream",
     "text": [
      "25\n",
      "3\n",
      "0\n",
      "4\n",
      "4\n",
      "1\n",
      "4\n",
      "4\n",
      "5\n",
      "3\n",
      "4\n",
      "4\n",
      "7\n",
      "4\n",
      "16\n",
      "19\n",
      "22\n",
      "20\n",
      "18\n",
      "26\n",
      "21\n",
      "21\n",
      "18\n",
      "20\n",
      "20\n",
      "21\n",
      "18\n",
      "24\n",
      "25\n",
      "25\n",
      "19\n",
      "20\n",
      "12\n",
      "11\n",
      "11\n",
      "9\n",
      "24\n",
      "35\n",
      "35\n",
      "40\n",
      "34\n",
      "35\n",
      "33\n",
      "36\n",
      "35\n",
      "35\n",
      "34\n",
      "33\n",
      "36\n",
      "36\n",
      "34\n",
      "34\n",
      "33\n",
      "34\n",
      "32\n",
      "33\n",
      "31\n",
      "33\n",
      "31\n",
      "31\n",
      "31\n",
      "33\n",
      "37\n",
      "37\n",
      "37\n",
      "32\n",
      "36\n",
      "33\n",
      "35\n",
      "35\n",
      "39\n",
      "33\n",
      "36\n",
      "40\n",
      "40\n",
      "40\n",
      "38\n",
      "31\n",
      "36\n",
      "41\n",
      "38\n",
      "40\n",
      "39\n",
      "39\n",
      "40\n",
      "36\n",
      "36\n",
      "36\n",
      "35\n",
      "36\n",
      "34\n",
      "36\n",
      "32\n",
      "33\n",
      "34\n",
      "33\n",
      "34\n",
      "33\n",
      "34\n",
      "36\n",
      "36\n",
      "37\n",
      "33\n",
      "32\n",
      "32\n",
      "36\n",
      "32\n",
      "36\n"
     ]
    }
   ],
   "source": [
    "a_hlag_clip = hla_clip_list[2]\n",
    "for j in range(112):\n",
    "    a_hlaa_clip = hla_clip_list[j]\n",
    "\n",
    "    if len(a_hlaa_clip) == len(a_hlag_clip):\n",
    "        sum = 0\n",
    "        for i in range(len(a_hlaa_clip)):\n",
    "            if a_hlaa_clip[i] != a_hlag_clip[i]:\n",
    "                sum+=1\n",
    "        print(sum)"
   ]
  }
 ],
 "metadata": {
  "kernelspec": {
   "display_name": "Python 3.8.13 64-bit ('phla')",
   "language": "python",
   "name": "python3"
  },
  "language_info": {
   "codemirror_mode": {
    "name": "ipython",
    "version": 3
   },
   "file_extension": ".py",
   "mimetype": "text/x-python",
   "name": "python",
   "nbconvert_exporter": "python",
   "pygments_lexer": "ipython3",
   "version": "3.8.13"
  },
  "orig_nbformat": 4,
  "vscode": {
   "interpreter": {
    "hash": "b0469df6e709a2df7221cf6a41b4e84b201802bdff0592e7cbfef445384a2896"
   }
  }
 },
 "nbformat": 4,
 "nbformat_minor": 2
}
